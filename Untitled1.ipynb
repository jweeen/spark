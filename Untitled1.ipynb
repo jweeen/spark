{
 "cells": [
  {
   "cell_type": "code",
   "execution_count": 1,
   "id": "87638138-4869-4403-a9eb-1a0452b1d874",
   "metadata": {},
   "outputs": [
    {
     "name": "stdout",
     "output_type": "stream",
     "text": [
      "('M299296037', 83)\n",
      "('Y231312017', 48)\n",
      "('V172730836', 33)\n",
      "('R113710856', 30)\n",
      "('I143881581', 12)\n",
      "('H193255855', 10)\n"
     ]
    }
   ],
   "source": [
    "from pyspark import SparkContext\n",
    "from operator import add\n",
    "logFile = \"test.txt\"\n",
    "sc = SparkContext(\"local\", \"Simple App\")\n",
    "logData = sc.textFile(logFile).cache()\n",
    "data = logData.flatMap(lambda s: s.split('|'))\\\n",
    "    .map(lambda i: i.split(\",\"))\\\n",
    "    .map(lambda r: (r[0], int(r[1])))\\\n",
    "    .reduceByKey(add)\\\n",
    "    .sortBy(lambda x: x[1], ascending=False)\\\n",
    "    .collect()\n",
    "list(data)\n",
    "for i in data:\n",
    "    print(i)"
   ]
  },
  {
   "cell_type": "code",
   "execution_count": 1,
   "id": "e17bc926-a98a-48b5-ad6e-609502c54fa6",
   "metadata": {},
   "outputs": [
    {
     "name": "stdout",
     "output_type": "stream",
     "text": [
      "('H193255855', 3.3333333333333335)\n",
      "('R113710856', 5.0)\n",
      "('V172730836', 6.6)\n",
      "('Y231312017', 6.857142857142857)\n",
      "('M299296037', 10.375)\n",
      "('I143881581', 12.0)\n"
     ]
    }
   ],
   "source": [
    "from pyspark import SparkContext\n",
    "from operator import add\n",
    "\n",
    "# 創建 SparkContext\n",
    "sc = SparkContext(\"local\", \"Average Stay Time\")\n",
    "\n",
    "# 假設數據來自 test.txt\n",
    "logFile = \"test.txt\"\n",
    "logData = sc.textFile(logFile).cache()\n",
    "\n",
    "# 轉換數據並計算平均停留秒數\n",
    "data = (\n",
    "    logData.flatMap(lambda s: s.split('|'))  # 分割每行數據\n",
    "    .map(lambda i: i.split(','))            # 分割成 [ID, 秒數]\n",
    "    .map(lambda r: (r[0], int(r[1])))       # 轉換成 (ID, 秒數)\n",
    "    .combineByKey(                          # 計算總秒數與次數\n",
    "        lambda value: (value, 1),           # 初始值 (秒數, 次數)\n",
    "        lambda acc, value: (acc[0] + value, acc[1] + 1),  # 聚合 (總秒數, 總次數)\n",
    "        lambda acc1, acc2: (acc1[0] + acc2[0], acc1[1] + acc2[1])  # 合併分區\n",
    "    )\n",
    "    .mapValues(lambda x: x[0] / x[1])       # 計算平均值\n",
    "    .sortBy(lambda x: x[1])                 # 按平均值排序\n",
    "    .collect()                              # 收集結果到本地\n",
    ")\n",
    "\n",
    "# 輸出結果\n",
    "for i in data:\n",
    "    print(i)"
   ]
  },
  {
   "cell_type": "code",
   "execution_count": null,
   "id": "f309132c-fec3-4fa1-b2f9-40bd5669b0b5",
   "metadata": {},
   "outputs": [],
   "source": []
  }
 ],
 "metadata": {
  "kernelspec": {
   "display_name": "Python 3 (ipykernel)",
   "language": "python",
   "name": "python3"
  },
  "language_info": {
   "codemirror_mode": {
    "name": "ipython",
    "version": 3
   },
   "file_extension": ".py",
   "mimetype": "text/x-python",
   "name": "python",
   "nbconvert_exporter": "python",
   "pygments_lexer": "ipython3",
   "version": "3.11.6"
  }
 },
 "nbformat": 4,
 "nbformat_minor": 5
}
